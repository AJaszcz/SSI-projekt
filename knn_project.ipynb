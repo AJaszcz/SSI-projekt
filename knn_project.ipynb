{
 "cells": [
  {
   "attachments": {},
   "cell_type": "markdown",
   "metadata": {},
   "source": [
    "### Own class and methods"
   ]
  },
  {
   "cell_type": "code",
   "execution_count": 13,
   "metadata": {},
   "outputs": [],
   "source": [
    "import knn"
   ]
  },
  {
   "attachments": {},
   "cell_type": "markdown",
   "metadata": {},
   "source": [
    "### Other imports"
   ]
  },
  {
   "cell_type": "code",
   "execution_count": 14,
   "metadata": {},
   "outputs": [],
   "source": [
    "%matplotlib inline\n",
    "import numpy as np\n",
    "from sklearn.model_selection import train_test_split\n",
    "from sklearn.datasets import load_digits\n",
    "import matplotlib.pyplot as plt\n",
    "import math"
   ]
  },
  {
   "attachments": {},
   "cell_type": "markdown",
   "metadata": {},
   "source": [
    "## Data prep"
   ]
  },
  {
   "cell_type": "code",
   "execution_count": 15,
   "metadata": {},
   "outputs": [],
   "source": [
    "digits = load_digits()"
   ]
  },
  {
   "cell_type": "code",
   "execution_count": 16,
   "metadata": {},
   "outputs": [
    {
     "name": "stdout",
     "output_type": "stream",
     "text": [
      "Sample Example 😎\n",
      "4\n"
     ]
    },
    {
     "data": {
      "image/png": "[encoded data removed]",
      "text/plain": [
       "<Figure size 432x288 with 1 Axes>"
      ]
     },
     "metadata": {
      "needs_background": "light"
     },
     "output_type": "display_data"
    }
   ],
   "source": [
    "fig, ax = plt.subplots()\n",
    "ax.set_axis_off()\n",
    "ax.imshow(digits.images[24], cmap=plt.cm.gray_r)\n",
    "print(\"Sample Example 😎\")\n",
    "print(digits.target[24])\n",
    "plt.savefig('media\\\\five5.png')"
   ]
  },
  {
   "cell_type": "code",
   "execution_count": 17,
   "metadata": {},
   "outputs": [
    {
     "data": {
      "image/png": "[encoded data removed]",
      "text/plain": [
       "<Figure size 720x216 with 4 Axes>"
      ]
     },
     "metadata": {
      "needs_background": "light"
     },
     "output_type": "display_data"
    }
   ],
   "source": [
    "_, axes = plt.subplots(nrows=1, ncols=4, figsize=(10, 3))\n",
    "for ax, image, label in zip(axes, digits.images, digits.target):\n",
    "    ax.set_axis_off()\n",
    "    ax.imshow(image, cmap=plt.cm.gray_r, interpolation=\"nearest\")\n",
    "    ax.set_title(\"Class: %i\" % label)\n",
    "plt.savefig('media\\\\digits.png')"
   ]
  },
  {
   "cell_type": "code",
   "execution_count": 18,
   "metadata": {},
   "outputs": [
    {
     "name": "stdout",
     "output_type": "stream",
     "text": [
      "Sample Example 😎\n"
     ]
    },
    {
     "data": {
      "image/png": "[encoded data removed]",
      "text/plain": [
       "<Figure size 432x288 with 1 Axes>"
      ]
     },
     "metadata": {
      "needs_background": "light"
     },
     "output_type": "display_data"
    }
   ],
   "source": [
    "fig, ax = plt.subplots()\n",
    "ax.set_axis_off()\n",
    "ax.imshow(knn.create_representatives(digits.images,digits.target)[0][40], cmap=plt.cm.gray_r)\n",
    "print(\"Sample Example 😎\")\n",
    "plt.savefig('media\\\\fice_representant.png')"
   ]
  },
  {
   "attachments": {},
   "cell_type": "markdown",
   "metadata": {},
   "source": [
    "#### Data division for cross-validation"
   ]
  },
  {
   "cell_type": "code",
   "execution_count": 19,
   "metadata": {},
   "outputs": [],
   "source": [
    "X_train, X_test, Y_train, Y_test = train_test_split(\n",
    "    digits.images, digits.target, test_size=0.25, shuffle=False\n",
    ")"
   ]
  },
  {
   "attachments": {},
   "cell_type": "markdown",
   "metadata": {},
   "source": [
    "## Model"
   ]
  },
  {
   "cell_type": "code",
   "execution_count": 55,
   "metadata": {},
   "outputs": [],
   "source": [
    "knn_model = knn.KNN(n_neighbours=2,representatives=False, collapse=True)"
   ]
  },
  {
   "cell_type": "code",
   "execution_count": 56,
   "metadata": {},
   "outputs": [
    {
     "name": "stdout",
     "output_type": "stream",
     "text": [
      "(1347, 8, 8)\n"
     ]
    }
   ],
   "source": [
    "knn_model.fit(X_train,Y_train)"
   ]
  },
  {
   "cell_type": "code",
   "execution_count": 53,
   "metadata": {},
   "outputs": [
    {
     "data": {
      "text/plain": [
       "(0.8155555555555556,\n",
       " array([[32,  6,  0,  3,  0,  0,  0,  0,  4,  0],\n",
       "        [ 4, 35,  0,  0,  3,  1,  0,  0, 10,  1],\n",
       "        [ 2,  0, 43,  0,  0,  1,  0,  0,  0,  2],\n",
       "        [ 2,  0,  0, 37,  0,  2,  0,  0,  0,  1],\n",
       "        [ 0,  1,  0,  0, 45,  0,  1,  1,  0,  0],\n",
       "        [ 0,  0,  0,  5,  0, 27,  0,  1,  0,  2],\n",
       "        [ 0,  0,  0,  1,  0,  1, 46,  0,  0,  0],\n",
       "        [ 0,  0,  0,  0,  0,  8,  0, 41,  1,  3],\n",
       "        [ 3,  4,  0,  1,  0,  4,  0,  0, 26,  1],\n",
       "        [ 0,  0,  0,  0,  0,  1,  0,  2,  0, 35]]))"
      ]
     },
     "execution_count": 53,
     "metadata": {},
     "output_type": "execute_result"
    }
   ],
   "source": [
    "knn_model.score(X_test,Y_test)"
   ]
  },
  {
   "cell_type": "code",
   "execution_count": 54,
   "metadata": {},
   "outputs": [
    {
     "data": {
      "text/plain": [
       "(array([0.8244445 , 0.8244445 , 0.8155556 , 0.80444443, 0.80222225,\n",
       "        0.80222225, 0.80222225, 0.80222225, 0.79333335, 0.78444445,\n",
       "        0.7777778 , 0.7822222 , 0.77555555, 0.7777778 , 0.7777778 ],\n",
       "       dtype=float32),\n",
       " array([[[31,  5,  1, ...,  0,  4,  1],\n",
       "         [ 4, 37,  0, ...,  0,  8,  2],\n",
       "         [ 3,  0, 42, ...,  0,  0,  0],\n",
       "         ...,\n",
       "         [ 0,  0,  0, ..., 44,  1,  0],\n",
       "         [ 3,  3,  0, ...,  0, 28,  2],\n",
       "         [ 0,  0,  0, ...,  1,  0, 37]],\n",
       " \n",
       "        [[31,  5,  1, ...,  0,  4,  1],\n",
       "         [ 4, 37,  0, ...,  0,  8,  2],\n",
       "         [ 3,  0, 42, ...,  0,  0,  0],\n",
       "         ...,\n",
       "         [ 0,  0,  0, ..., 44,  1,  0],\n",
       "         [ 3,  3,  0, ...,  0, 28,  2],\n",
       "         [ 0,  0,  0, ...,  1,  0, 37]],\n",
       " \n",
       "        [[32,  6,  0, ...,  0,  4,  0],\n",
       "         [ 4, 35,  0, ...,  0, 10,  1],\n",
       "         [ 2,  0, 43, ...,  0,  0,  2],\n",
       "         ...,\n",
       "         [ 0,  0,  0, ..., 41,  1,  3],\n",
       "         [ 3,  4,  0, ...,  0, 26,  1],\n",
       "         [ 0,  0,  0, ...,  2,  0, 35]],\n",
       " \n",
       "        ...,\n",
       " \n",
       "        [[32,  8,  0, ...,  0,  4,  2],\n",
       "         [ 4, 32,  0, ...,  0, 13,  1],\n",
       "         [ 3,  0, 43, ...,  0,  0,  1],\n",
       "         ...,\n",
       "         [ 0,  0,  0, ..., 40,  1,  3],\n",
       "         [ 2,  5,  0, ...,  1, 22,  1],\n",
       "         [ 0,  0,  0, ...,  3,  0, 30]],\n",
       " \n",
       "        [[32,  7,  0, ...,  0,  5,  2],\n",
       "         [ 3, 34,  0, ...,  0, 13,  1],\n",
       "         [ 3,  0, 43, ...,  0,  0,  1],\n",
       "         ...,\n",
       "         [ 0,  0,  0, ..., 40,  1,  3],\n",
       "         [ 3,  4,  0, ...,  1, 20,  1],\n",
       "         [ 0,  0,  0, ...,  3,  1, 31]],\n",
       " \n",
       "        [[32,  8,  0, ...,  0,  5,  2],\n",
       "         [ 3, 33,  0, ...,  0, 13,  1],\n",
       "         [ 3,  0, 43, ...,  0,  0,  1],\n",
       "         ...,\n",
       "         [ 0,  0,  0, ..., 40,  1,  2],\n",
       "         [ 3,  4,  0, ...,  1, 20,  1],\n",
       "         [ 0,  0,  0, ...,  3,  1, 32]]]))"
      ]
     },
     "execution_count": 54,
     "metadata": {},
     "output_type": "execute_result"
    }
   ],
   "source": [
    "knn_model.score_for_n_in_range(X_test,Y_test,15)"
   ]
  },
  {
   "cell_type": "code",
   "execution_count": 20,
   "metadata": {},
   "outputs": [
    {
     "data": {
      "text/plain": [
       "array([[1, 2],\n",
       "       [3, 2],\n",
       "       [4, 5],\n",
       "       [2, 6]])"
      ]
     },
     "execution_count": 20,
     "metadata": {},
     "output_type": "execute_result"
    }
   ],
   "source": [
    "a = np.array([[1, 2], [3,2]])\n",
    "b = np.array([[4, 5], [2,6]])\n",
    "np.concatenate([a,b])"
   ]
  },
  {
   "cell_type": "code",
   "execution_count": 21,
   "metadata": {},
   "outputs": [
    {
     "data": {
      "text/plain": [
       "(1797, 8, 8)"
      ]
     },
     "execution_count": 21,
     "metadata": {},
     "output_type": "execute_result"
    }
   ],
   "source": [
    "digits.images.shape"
   ]
  },
  {
   "cell_type": "code",
   "execution_count": 57,
   "metadata": {},
   "outputs": [
    {
     "name": "stdout",
     "output_type": "stream",
     "text": [
      "WARNING! Cannot divide given dataset equally into 4 parts. Ignoring last 1 elements!\n",
      "(1347, 8, 8)\n",
      "(1347, 8, 8)\n",
      "(1347, 8, 8)\n",
      "(1347, 8, 8)\n"
     ]
    },
    {
     "data": {
      "text/plain": [
       "array([0.73496659, 0.75946548, 0.81737194, 0.82628062])"
      ]
     },
     "execution_count": 57,
     "metadata": {},
     "output_type": "execute_result"
    }
   ],
   "source": [
    "knn_model.cross_val_score(digits.images,digits.target)"
   ]
  }
 ],
 "metadata": {
  "kernelspec": {
   "display_name": "Python 3",
   "language": "python",
   "name": "python3"
  },
  "language_info": {
   "codemirror_mode": {
    "name": "ipython",
    "version": 3
   },
   "file_extension": ".py",
   "mimetype": "text/x-python",
   "name": "python",
   "nbconvert_exporter": "python",
   "pygments_lexer": "ipython3",
   "version": "3.10.4"
  },
  "orig_nbformat": 4
 },
 "nbformat": 4,
 "nbformat_minor": 2
}
