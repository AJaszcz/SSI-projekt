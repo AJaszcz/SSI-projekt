{
 "cells": [
  {
   "attachments": {},
   "cell_type": "markdown",
   "metadata": {},
   "source": [
    "### Own class and methods"
   ]
  },
  {
   "cell_type": "code",
   "execution_count": 1,
   "metadata": {},
   "outputs": [],
   "source": [
    "import knn"
   ]
  },
  {
   "attachments": {},
   "cell_type": "markdown",
   "metadata": {},
   "source": [
    "### Other imports"
   ]
  },
  {
   "cell_type": "code",
   "execution_count": 2,
   "metadata": {},
   "outputs": [],
   "source": [
    "%matplotlib inline\n",
    "import numpy as np\n",
    "from sklearn.model_selection import train_test_split\n",
    "from sklearn.datasets import load_digits\n",
    "import matplotlib.pyplot as plt\n",
    "import math"
   ]
  },
  {
   "attachments": {},
   "cell_type": "markdown",
   "metadata": {},
   "source": [
    "## Data preparation"
   ]
  },
  {
   "cell_type": "code",
   "execution_count": 3,
   "metadata": {},
   "outputs": [],
   "source": [
    "digits = load_digits()"
   ]
  },
  {
   "cell_type": "code",
   "execution_count": 10,
   "metadata": {},
   "outputs": [
    {
     "name": "stdout",
     "output_type": "stream",
     "text": [
      "Sample Example 😎\n",
      "5\n"
     ]
    },
    {
     "data": {
      "image/png": "[encoded data removed]",
      "text/plain": [
       "<Figure size 432x288 with 1 Axes>"
      ]
     },
     "metadata": {
      "needs_background": "light"
     },
     "output_type": "display_data"
    }
   ],
   "source": [
    "fig, ax = plt.subplots()\n",
    "ax.set_axis_off()\n",
    "ax.imshow(digits.images[25], cmap=plt.cm.gray_r)\n",
    "print(\"Sample Example 😎\")\n",
    "print(digits.target[25])\n",
    "plt.savefig('media\\\\five5.png')"
   ]
  },
  {
   "cell_type": "code",
   "execution_count": 11,
   "metadata": {},
   "outputs": [
    {
     "data": {
      "image/png": "[encoded data removed]",
      "text/plain": [
       "<Figure size 720x216 with 4 Axes>"
      ]
     },
     "metadata": {
      "needs_background": "light"
     },
     "output_type": "display_data"
    }
   ],
   "source": [
    "_, axes = plt.subplots(nrows=1, ncols=4, figsize=(10, 3))\n",
    "for ax, image, label in zip(axes, digits.images, digits.target):\n",
    "    ax.set_axis_off()\n",
    "    ax.imshow(image, cmap=plt.cm.gray_r, interpolation=\"nearest\")\n",
    "    ax.set_title(\"Class: %i\" % label)\n",
    "plt.savefig('media\\\\digits.png')"
   ]
  },
  {
   "cell_type": "code",
   "execution_count": 14,
   "metadata": {},
   "outputs": [
    {
     "name": "stdout",
     "output_type": "stream",
     "text": [
      "Sample Example 😎\n",
      "Five representant\n"
     ]
    },
    {
     "data": {
      "image/png": "[encoded data removed]",
      "text/plain": [
       "<Figure size 432x288 with 1 Axes>"
      ]
     },
     "metadata": {
      "needs_background": "light"
     },
     "output_type": "display_data"
    }
   ],
   "source": [
    "fig, ax = plt.subplots()\n",
    "ax.set_axis_off()\n",
    "ax.imshow(knn.create_representatives(digits.images,digits.target)[0][40], cmap=plt.cm.gray_r)\n",
    "print(\"Sample Example 😎\")\n",
    "print(\"Five representant\")\n",
    "plt.savefig('media\\\\five_representant.png')"
   ]
  },
  {
   "attachments": {},
   "cell_type": "markdown",
   "metadata": {},
   "source": [
    "#### Data division for cross-validation"
   ]
  },
  {
   "cell_type": "code",
   "execution_count": 7,
   "metadata": {},
   "outputs": [],
   "source": [
    "X_train, X_test, Y_train, Y_test = train_test_split(\n",
    "    digits.images, digits.target, test_size=0.25, shuffle=False\n",
    ")"
   ]
  },
  {
   "attachments": {},
   "cell_type": "markdown",
   "metadata": {},
   "source": [
    "## Models tested"
   ]
  },
  {
   "cell_type": "code",
   "execution_count": 8,
   "metadata": {},
   "outputs": [],
   "source": [
    "knn_model = knn.KNN(n_neighbours=7,representatives=False, project=False)"
   ]
  },
  {
   "cell_type": "code",
   "execution_count": 9,
   "metadata": {},
   "outputs": [],
   "source": [
    "knn_model_representatives = knn.KNN(n_neighbours=2,representatives=True, project=False)"
   ]
  },
  {
   "cell_type": "code",
   "execution_count": 10,
   "metadata": {},
   "outputs": [],
   "source": [
    "knn_model_project = knn.KNN(n_neighbours=2,representatives=False, project=True)"
   ]
  },
  {
   "cell_type": "code",
   "execution_count": 11,
   "metadata": {},
   "outputs": [],
   "source": [
    "import time"
   ]
  },
  {
   "cell_type": "code",
   "execution_count": 12,
   "metadata": {},
   "outputs": [
    {
     "name": "stdout",
     "output_type": "stream",
     "text": [
      " Base fit: 0.0 s\n",
      " Representatives fit: 0.0 s\n",
      " Projection fit: 0.0 s\n"
     ]
    }
   ],
   "source": [
    "st = time.process_time()\n",
    "knn_model.fit(X_train,Y_train)\n",
    "et = time.process_time()\n",
    "print(f\" Base fit: {et-st} s\")\n",
    "\n",
    "st = time.process_time()\n",
    "knn_model_representatives.fit(X_train,Y_train)\n",
    "et = time.process_time()\n",
    "print(f\" Representatives fit: {et-st} s\")\n",
    "\n",
    "st = time.process_time()\n",
    "knn_model_project.fit(X_train,Y_train)\n",
    "et = time.process_time()\n",
    "print(f\" Projection fit: {et-st} s\")"
   ]
  },
  {
   "cell_type": "code",
   "execution_count": 13,
   "metadata": {},
   "outputs": [],
   "source": [
    "dif__n = knn_model.score_for_n_in_range(X_test,Y_test,15)\n",
    "dif_n_representatives = knn_model_representatives.score_for_n_in_range(X_test,Y_test,15)\n",
    "dif_n_project = knn_model_project.score_for_n_in_range(X_test,Y_test,15)"
   ]
  },
  {
   "cell_type": "code",
   "execution_count": 14,
   "metadata": {},
   "outputs": [
    {
     "name": "stdout",
     "output_type": "stream",
     "text": [
      "WARNING! Cannot divide given dataset equally into 4 parts. Ignoring last 1 elements!\n",
      " Base cross: 19.875 s\n",
      "WARNING! Cannot divide given dataset equally into 4 parts. Ignoring last 1 elements!\n",
      " Representatives cross: 1.25 s\n",
      "WARNING! Cannot divide given dataset equally into 4 parts. Ignoring last 1 elements!\n",
      " Projection cross: 19.53125 s\n"
     ]
    }
   ],
   "source": [
    "st = time.process_time()\n",
    "cross = knn_model.cross_val_score(digits.images,digits.target)\n",
    "et = time.process_time()\n",
    "print(f\" Base cross: {et-st} s\")\n",
    "\n",
    "st = time.process_time()\n",
    "cross_representatives = knn_model_representatives.cross_val_score(digits.images,digits.target)\n",
    "et = time.process_time()\n",
    "print(f\" Representatives cross: {et-st} s\")\n",
    "\n",
    "st = time.process_time()\n",
    "cross_project = knn_model_project.cross_val_score(digits.images,digits.target)\n",
    "et = time.process_time()\n",
    "print(f\" Projection cross: {et-st} s\")"
   ]
  },
  {
   "cell_type": "code",
   "execution_count": 39,
   "metadata": {},
   "outputs": [
    {
     "name": "stdout",
     "output_type": "stream",
     "text": [
      "cross Base n=7: [96.44, 95.55, 97.33, 96.21]\n",
      "with mean acc: 96.38\n",
      "cross Representatives n=2: [91.76, 91.54, 93.76, 90.42]\n",
      "with mean acc: 91.87\n",
      "cross Projection n=2: [73.5, 75.95, 81.74, 82.63]\n",
      "with mean acc: 78.45\n"
     ]
    }
   ],
   "source": [
    "print(f\"cross Base n=7: {[round(x*100,2) for x in cross[0]]}\\nwith mean acc: {round(np.mean(cross[0])*100,2)}\")\n",
    "print(f\"cross Representatives n=2: {[round(x*100,2) for x in cross_representatives[0]]}\\nwith mean acc: {round(np.mean(cross_representatives[0])*100,2)}\")\n",
    "print(f\"cross Projection n=2: {[round(x*100,2) for x in cross_project[0]]}\\nwith mean acc: {round(np.mean(cross_project[0])*100,2)}\")"
   ]
  },
  {
   "cell_type": "code",
   "execution_count": 35,
   "metadata": {},
   "outputs": [
    {
     "name": "stdout",
     "output_type": "stream",
     "text": [
      "cross Base n=7: [96.54, 95.58, 97.4, 96.25]\n",
      "with mean precision: 96.44\n",
      "cross Representatives n=2: [92.44, 92.04, 93.93, 90.72]\n",
      "with mean precision: 92.28\n",
      "cross Projection n=2: [74.63, 76.03, 82.15, 82.59]\n",
      "with mean precision: 78.85\n"
     ]
    }
   ],
   "source": [
    "print(f\"cross Base n=7: {[round(x*100,2) for x in cross[2].T[0]]}\\nwith mean precision: {round(np.mean(cross[2].T[0])*100,2)}\")\n",
    "print(f\"cross Representatives n=2: {[round(x*100,2) for x in cross_representatives[2].T[0]]}\\nwith mean precision: {round(np.mean(cross_representatives[2].T[0])*100,2)}\")\n",
    "print(f\"cross Projection n=2: {[round(x*100,2) for x in cross_project[2].T[0]]}\\nwith mean precision: {round(np.mean(cross_project[2].T[0])*100,2)}\")"
   ]
  },
  {
   "cell_type": "code",
   "execution_count": 36,
   "metadata": {},
   "outputs": [
    {
     "name": "stdout",
     "output_type": "stream",
     "text": [
      "cross Base n=7: [96.43, 95.53, 97.39, 96.14]\n",
      "with mean recall: 96.37\n",
      "cross Representatives n=2: [91.69, 91.47, 93.89, 90.41]\n",
      "with mean recall: 91.87\n",
      "cross Projection n=2: [73.83, 75.67, 81.93, 82.4]\n",
      "with mean recall: 78.46\n"
     ]
    }
   ],
   "source": [
    "print(f\"cross Base n=7: {[round(x*100,2) for x in cross[2].T[1]]}\\nwith mean recall: {round(np.mean(cross[2].T[1])*100,2)}\")\n",
    "print(f\"cross Representatives n=2: {[round(x*100,2) for x in cross_representatives[2].T[1]]}\\nwith mean recall: {round(np.mean(cross_representatives[2].T[1])*100,2)}\")\n",
    "print(f\"cross Projection n=2: {[round(x*100,2) for x in cross_project[2].T[1]]}\\nwith mean recall: {round(np.mean(cross_project[2].T[1])*100,2)}\")"
   ]
  },
  {
   "cell_type": "code",
   "execution_count": 37,
   "metadata": {},
   "outputs": [
    {
     "name": "stdout",
     "output_type": "stream",
     "text": [
      "cross Base n=7: [96.41, 95.52, 97.39, 96.1]\n",
      "with mean f1-score: 96.36\n",
      "cross Representatives n=2: [91.81, 91.5, 93.88, 90.32]\n",
      "with mean f1-score: 91.88\n",
      "cross Projection n=2: [73.54, 75.54, 81.82, 82.13]\n",
      "with mean f1-score: 78.26\n"
     ]
    }
   ],
   "source": [
    "print(f\"cross Base n=7: {[round(x*100,2) for x in cross[2].T[2]]}\\nwith mean f1-score: {round(np.mean(cross[2].T[2])*100,2)}\")\n",
    "print(f\"cross Representatives n=2: {[round(x*100,2) for x in cross_representatives[2].T[2]]}\\nwith mean f1-score: {round(np.mean(cross_representatives[2].T[2])*100,2)}\")\n",
    "print(f\"cross Projection n=2: {[round(x*100,2) for x in cross_project[2].T[2]]}\\nwith mean f1-score: {round(np.mean(cross_project[2].T[2])*100,2)}\")"
   ]
  },
  {
   "cell_type": "code",
   "execution_count": 19,
   "metadata": {},
   "outputs": [],
   "source": [
    "import seaborn as sns"
   ]
  },
  {
   "cell_type": "code",
   "execution_count": 20,
   "metadata": {},
   "outputs": [
    {
     "data": {
      "image/png": "[encoded data removed]",
      "text/plain": [
       "<Figure size 432x288 with 2 Axes>"
      ]
     },
     "metadata": {
      "needs_background": "light"
     },
     "output_type": "display_data"
    }
   ],
   "source": [
    "ax = sns.heatmap(sum(cross[1])/4,\n",
    "            annot=True)\n",
    "ax.set(xlabel=\"Predicted\", ylabel=\"Actual\")\n",
    "ax.xaxis.tick_top()\n",
    "plt.savefig('media\\\\CM_base.png')"
   ]
  },
  {
   "cell_type": "code",
   "execution_count": 21,
   "metadata": {},
   "outputs": [
    {
     "data": {
      "image/png": "[encoded data removed]",
      "text/plain": [
       "<Figure size 432x288 with 2 Axes>"
      ]
     },
     "metadata": {
      "needs_background": "light"
     },
     "output_type": "display_data"
    }
   ],
   "source": [
    "ax = sns.heatmap(sum(cross_representatives[1])/4,\n",
    "            annot=True)\n",
    "ax.set(xlabel=\"Predicted\", ylabel=\"Actual\")\n",
    "ax.xaxis.tick_top()\n",
    "plt.savefig('media\\\\CM_representatives.png')"
   ]
  },
  {
   "cell_type": "code",
   "execution_count": 22,
   "metadata": {},
   "outputs": [
    {
     "data": {
      "image/png": "[encoded data removed]",
      "text/plain": [
       "<Figure size 432x288 with 2 Axes>"
      ]
     },
     "metadata": {
      "needs_background": "light"
     },
     "output_type": "display_data"
    }
   ],
   "source": [
    "ax = sns.heatmap(sum(cross_project[1])/4,\n",
    "            annot=True)\n",
    "ax.set(xlabel=\"Predicted\", ylabel=\"Actual\")\n",
    "ax.xaxis.tick_top()\n",
    "plt.savefig('media\\\\CM_projection.png')"
   ]
  },
  {
   "cell_type": "code",
   "execution_count": 23,
   "metadata": {},
   "outputs": [
    {
     "data": {
      "image/png": "[encoded data removed]",
      "text/plain": [
       "<Figure size 432x288 with 1 Axes>"
      ]
     },
     "metadata": {
      "needs_background": "light"
     },
     "output_type": "display_data"
    }
   ],
   "source": [
    "plt.plot(np.arange(1,16),dif__n[0]*100,\n",
    "         color = 'orange')\n",
    "plt.xticks(np.arange(1,16))\n",
    "plt.grid()\n",
    "plt.xlabel(\"k neighbors\")\n",
    "plt.ylabel(\"Accuracy [%]\")\n",
    "plt.savefig('media\\\\dif_k_base.png')"
   ]
  }
 ],
 "metadata": {
  "kernelspec": {
   "display_name": "Python 3",
   "language": "python",
   "name": "python3"
  },
  "language_info": {
   "codemirror_mode": {
    "name": "ipython",
    "version": 3
   },
   "file_extension": ".py",
   "mimetype": "text/x-python",
   "name": "python",
   "nbconvert_exporter": "python",
   "pygments_lexer": "ipython3",
   "version": "3.10.4"
  },
  "orig_nbformat": 4
 },
 "nbformat": 4,
 "nbformat_minor": 2
}
